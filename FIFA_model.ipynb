{
 "cells": [
  {
   "cell_type": "code",
   "execution_count": 1,
   "metadata": {
    "_uuid": "811c92d5bdd16908d19374080633c4e58df5e86e"
   },
   "outputs": [],
   "source": [
    "import numpy as np\n",
    "import pandas as pd\n",
    "import seaborn as sns\n",
    "import matplotlib.pyplot as plt\n",
    "import eli5\n",
    "from eli5.sklearn import PermutationImportance\n",
    "from collections import Counter\n",
    "import missingno as msno\n",
    "\n",
    "import warnings\n",
    "warnings.filterwarnings('ignore')\n",
    "import plotly\n",
    "sns.set_style('darkgrid')"
   ]
  },
  {
   "cell_type": "code",
   "execution_count": 2,
   "metadata": {
    "_cell_guid": "79c7e3d0-c299-4dcb-8224-4455121ee9b0",
    "_kg_hide-input": false,
    "_uuid": "d629ff2d2480ee46fbb7e2d37f6b5fab8052498a"
   },
   "outputs": [],
   "source": [
    "df=pd.read_csv('../input/data.csv')"
   ]
  },
  {
   "cell_type": "code",
   "execution_count": null,
   "metadata": {
    "_kg_hide-input": true,
    "_uuid": "cc1b7ffc6efef227ccda85d576ec94700a27451e"
   },
   "outputs": [],
   "source": [
    "df.head().T"
   ]
  },
  {
   "cell_type": "code",
   "execution_count": null,
   "metadata": {
    "_kg_hide-input": true,
    "_uuid": "ac02b91cddffa758c535227927702f681597a619"
   },
   "outputs": [],
   "source": [
    "df.columns"
   ]
  },
  {
   "cell_type": "code",
   "execution_count": null,
   "metadata": {
    "_kg_hide-input": true,
    "_uuid": "ff8c8baef6b47103cdcd905db2f8adaa3e3d8330"
   },
   "outputs": [],
   "source": [
    "df.info()"
   ]
  },
  {
   "cell_type": "code",
   "execution_count": null,
   "metadata": {
    "_kg_hide-input": true
   },
   "outputs": [],
   "source": [
    "df.describe().T"
   ]
  },
  {
   "cell_type": "markdown",
   "metadata": {},
   "source": [
    "<a id=\"2\"></a> \n",
    "# 2. Data Cleaning"
   ]
  },
  {
   "cell_type": "code",
   "execution_count": 7,
   "metadata": {
    "_uuid": "40b4429e659535113b7e94e62b4ab995a392e6bd"
   },
   "outputs": [],
   "source": [
    "df.drop(['Unnamed: 0','Photo','Flag','Club Logo'],axis=1,inplace=True)"
   ]
  },
  {
   "cell_type": "code",
   "execution_count": null,
   "metadata": {
    "_kg_hide-input": true,
    "_uuid": "4a6c334fc5bc8b1ddd24a369322feb1808ebc775"
   },
   "outputs": [],
   "source": [
    "msno.bar(df.sample( 18207 ),(28,10),color='red')"
   ]
  },
  {
   "cell_type": "code",
   "execution_count": null,
   "metadata": {
    "_kg_hide-input": true
   },
   "outputs": [],
   "source": [
    "df.isnull().sum()"
   ]
  },
  {
   "cell_type": "code",
   "execution_count": null,
   "metadata": {},
   "outputs": [],
   "source": [
    "missing_height = df[df['Height'].isnull()].index.tolist()\n",
    "missing_weight = df[df['Weight'].isnull()].index.tolist()\n",
    "if missing_height == missing_weight:\n",
    "    print('They are same')\n",
    "else:\n",
    "    print('They are different')"
   ]
  },
  {
   "cell_type": "code",
   "execution_count": 11,
   "metadata": {},
   "outputs": [],
   "source": [
    "df.drop(df.index[missing_height],inplace =True)"
   ]
  },
  {
   "cell_type": "code",
   "execution_count": null,
   "metadata": {
    "_kg_hide-input": true
   },
   "outputs": [],
   "source": [
    "df.isnull().sum()"
   ]
  },
  {
   "cell_type": "code",
   "execution_count": 13,
   "metadata": {
    "_uuid": "3b807e8c8a07ee1bb2d89da9fb501ec8e4790bb4"
   },
   "outputs": [],
   "source": [
    "df.drop(['Loaned From','Release Clause','Joined'],axis=1,inplace=True)"
   ]
  },
  {
   "cell_type": "code",
   "execution_count": null,
   "metadata": {
    "_kg_hide-input": true,
    "_uuid": "1c322386ca72db1d91ae976bed163d5127f762df"
   },
   "outputs": [],
   "source": [
    "#Number of countries available and top 5 countries with highest number of players\n",
    "print('Total number of countries : {0}'.format(df['Nationality'].nunique()))\n",
    "print(df['Nationality'].value_counts().head(5))\n",
    "print('--'*40)\n",
    "print(\"\\nEuropean Countries have most players\")"
   ]
  },
  {
   "cell_type": "code",
   "execution_count": null,
   "metadata": {
    "_kg_hide-input": true,
    "_uuid": "e6a962e78fb528d8822889ccce093113a78a6961"
   },
   "outputs": [],
   "source": [
    "#Total number of clubs present and top 5 clubs with highest number of players\n",
    "print('Total number of clubs : {0}'.format(df['Club'].nunique()))\n",
    "print(df['Club'].value_counts().head(5))"
   ]
  },
  {
   "cell_type": "code",
   "execution_count": null,
   "metadata": {
    "_kg_hide-input": true,
    "_uuid": "b2d3951a9133d2dec8e90e54e59b65ab4b2ff2ee"
   },
   "outputs": [],
   "source": [
    "#Player with maximum Potential and Overall Performance\n",
    "print('Maximum Potential : '+str(df.loc[df['Potential'].idxmax()][1]))\n",
    "print('Maximum Overall Perforamnce : '+str(df.loc[df['Overall'].idxmax()][1]))"
   ]
  },
  {
   "cell_type": "code",
   "execution_count": null,
   "metadata": {
    "_kg_hide-input": true,
    "_uuid": "f68ba4bd47736d9c32d3b48df1e8f2ce1e2391a9"
   },
   "outputs": [],
   "source": [
    "pr_cols=['Crossing', 'Finishing', 'HeadingAccuracy', 'ShortPassing', 'Volleys',\n",
    "       'Dribbling', 'Curve', 'FKAccuracy', 'LongPassing', 'BallControl',\n",
    "       'Acceleration', 'SprintSpeed', 'Agility', 'Reactions', 'Balance',\n",
    "       'ShotPower', 'Jumping', 'Stamina', 'Strength', 'LongShots',\n",
    "       'Aggression', 'Interceptions', 'Positioning', 'Vision', 'Penalties',\n",
    "       'Composure', 'Marking', 'StandingTackle', 'SlidingTackle', 'GKDiving',\n",
    "       'GKHandling', 'GKKicking', 'GKPositioning', 'GKReflexes']\n",
    "print('BEST IN DIFFERENT ASPECTS :')\n",
    "print('_________________________\\n\\n')\n",
    "i=0\n",
    "while i < len(pr_cols):\n",
    "    print('Best {0} : {1}'.format(pr_cols[i],df.loc[df[pr_cols[i]].idxmax()][1]))\n",
    "    i += 1"
   ]
  },
  {
   "cell_type": "code",
   "execution_count": 18,
   "metadata": {
    "_uuid": "8e2b62773f0ab3ab7e85739f34faa851b2d93114"
   },
   "outputs": [],
   "source": [
    "#Cleaning some of values so that we can interpret them \n",
    "def value_to_int(df_value):\n",
    "    try:\n",
    "        value = float(df_value[1:-1])\n",
    "        suffix = df_value[-1:]\n",
    "\n",
    "        if suffix == 'M':\n",
    "            value = value * 1000000\n",
    "        elif suffix == 'K':\n",
    "            value = value * 1000\n",
    "    except ValueError:\n",
    "        value = 0\n",
    "    return value\n",
    "\n",
    "df['Value'] = df['Value'].apply(value_to_int)\n",
    "df['Wage'] = df['Wage'].apply(value_to_int)"
   ]
  },
  {
   "cell_type": "code",
   "execution_count": null,
   "metadata": {
    "_kg_hide-input": true,
    "_uuid": "fac3404f19d87cb66a675b944e22c2c790dc574f"
   },
   "outputs": [],
   "source": [
    "df.head().T"
   ]
  },
  {
   "cell_type": "code",
   "execution_count": null,
   "metadata": {
    "_kg_hide-input": true,
    "_uuid": "d064bf1a290a20994585ca34964bc883adeb2362"
   },
   "outputs": [],
   "source": [
    "#Top earners\n",
    "print('Most valued player : '+str(df.loc[df['Value'].idxmax()][1]))\n",
    "print('Highest earner : '+str(df.loc[df['Wage'].idxmax()][1]))\n",
    "print(\"--\"*40)\n",
    "print(\"\\nTop Earners\")"
   ]
  },
  {
   "cell_type": "code",
   "execution_count": null,
   "metadata": {
    "_kg_hide-input": true,
    "_uuid": "885ea4e16e5da679cd2d890df92d0e7ea3886979"
   },
   "outputs": [],
   "source": [
    "sns.jointplot(x=df['Age'],y=df['Potential'],\n",
    "              joint_kws={'alpha':0.1,'s':5,'color':'red'},\n",
    "              marginal_kws={'color':'red'})\n",
    "\n"
   ]
  },
  {
   "cell_type": "markdown",
   "metadata": {},
   "source": [
    "`Potential` tends to fall as you grow old"
   ]
  },
  {
   "cell_type": "code",
   "execution_count": null,
   "metadata": {
    "_kg_hide-input": true,
    "_uuid": "49bccf0e0b5ca77a8b35a527db27b98e99f24391"
   },
   "outputs": [],
   "source": [
    "sns.lmplot(data = df, x = 'Age', y = 'SprintSpeed',lowess=True,scatter_kws={'alpha':0.01, 's':5,'color':'green'}, \n",
    "           line_kws={'color':'red'})"
   ]
  },
  {
   "cell_type": "markdown",
   "metadata": {},
   "source": [
    "As the `age` increases the `sprint speed` decreases"
   ]
  },
  {
   "cell_type": "code",
   "execution_count": null,
   "metadata": {
    "_kg_hide-input": true,
    "_uuid": "fe3c4115558afa33032e544ff58392278c5972ec"
   },
   "outputs": [],
   "source": [
    "sns.lmplot(x = 'BallControl', y = 'Dribbling', data = df,col = 'Preferred Foot',scatter_kws = {'alpha':0.1,'color':'orange'},\n",
    "           line_kws={'color':'red'})"
   ]
  },
  {
   "cell_type": "markdown",
   "metadata": {},
   "source": [
    "`Left Footed Players` vs `Right Footed Players`"
   ]
  },
  {
   "cell_type": "code",
   "execution_count": null,
   "metadata": {
    "_kg_hide-input": true,
    "_uuid": "97026f2c12fd799aef3061419f8ac58ee785dec1"
   },
   "outputs": [],
   "source": [
    "\n",
    "sns.jointplot(x=df['Dribbling'], y=df['Crossing'], kind=\"hex\", color=\"#4CB391\");"
   ]
  },
  {
   "cell_type": "markdown",
   "metadata": {},
   "source": [
    "`Crossing` vs `Dribbling`"
   ]
  },
  {
   "cell_type": "code",
   "execution_count": null,
   "metadata": {
    "_kg_hide-input": true,
    "_uuid": "ec0cf7f5150080b8c841a0f0e319557f7a6aab0c"
   },
   "outputs": [],
   "source": [
    "value = df.Value\n",
    "cmap = sns.cubehelix_palette(rot=-.2, as_cmap=True)\n",
    "\n",
    "sns.relplot(x=\"Age\", y=\"Potential\", hue=value/100000, \n",
    "            sizes=(40, 400), alpha=.5,\n",
    "            height=6, data=df);"
   ]
  },
  {
   "cell_type": "markdown",
   "metadata": {},
   "source": [
    "Relation between `potential` and `age` with respected `value` of players"
   ]
  },
  {
   "cell_type": "code",
   "execution_count": null,
   "metadata": {
    "_kg_hide-input": true,
    "_uuid": "a872f6ddc120f195e84dfc8637d01721c28835d7"
   },
   "outputs": [],
   "source": [
    "corr = df.corr()\n",
    "mask = np.zeros_like(corr)\n",
    "mask[np.triu_indices_from(mask)] = True\n",
    "with sns.axes_style(\"white\"):\n",
    "    f, ax = plt.subplots(figsize=(15, 15))\n",
    "    ax = sns.heatmap(corr,mask=mask,square=True,linewidths=.8,cmap=\"YlGnBu\")"
   ]
  },
  {
   "cell_type": "markdown",
   "metadata": {},
   "source": [
    "**Lowest correlation** among the goalkeeping side with other columns and high among themselves \n",
    "\n",
    "**High correlation** between `Dribbling`, `Volleys`, `Passing` etc..."
   ]
  },
  {
   "cell_type": "code",
   "execution_count": null,
   "metadata": {
    "_kg_hide-input": true
   },
   "outputs": [],
   "source": [
    "plt.rcParams['figure.figsize'] = (20, 7)\n",
    "plt.style.use('seaborn-dark-palette')\n",
    "\n",
    "sns.boxenplot(df['Overall'], df['Age'], hue = df['Preferred Foot'], palette = 'rocket')\n",
    "plt.title('Comparison of Overall Scores and age wrt Preferred foot', fontsize = 20)\n",
    "plt.show()"
   ]
  },
  {
   "cell_type": "markdown",
   "metadata": {},
   "source": [
    "We will have comparisions for `Age`, `Overall`, `Potential`, `Accelaration`, `SprintSpeed`, `Agility` , `Stamina`, `Strength`"
   ]
  },
  {
   "cell_type": "code",
   "execution_count": 29,
   "metadata": {},
   "outputs": [],
   "source": [
    "cols = ['Age','Overall','Potential','Acceleration','SprintSpeed',\"Agility\",\"Stamina\",'Strength','Preferred Foot']\n",
    "df_small = df[cols]"
   ]
  },
  {
   "cell_type": "code",
   "execution_count": null,
   "metadata": {
    "_kg_hide-input": true
   },
   "outputs": [],
   "source": [
    "df_small.head()"
   ]
  },
  {
   "cell_type": "code",
   "execution_count": null,
   "metadata": {},
   "outputs": [],
   "source": [
    "sns.pairplot(df_small, hue ='Preferred Foot',palette=[\"black\", \"red\"],plot_kws=dict(s=50, alpha =0.8),markers=['^','v'])"
   ]
  },
  {
   "cell_type": "code",
   "execution_count": 32,
   "metadata": {
    "_uuid": "3d6a8c8bfbde23ab095ea8aeebe2403174830857"
   },
   "outputs": [],
   "source": [
    "df=pd.read_csv('../input/data.csv')"
   ]
  },
  {
   "cell_type": "code",
   "execution_count": null,
   "metadata": {
    "_uuid": "cd2e6db524ecae1fbe983d3beae36a0ab4ab917a"
   },
   "outputs": [],
   "source": [
    "#DROPPING UNNECESSARY VALUES\n",
    "drop_cols = df.columns[28:54]\n",
    "df = df.drop(drop_cols, axis = 1)\n",
    "df = df.drop(['Unnamed: 0','ID','Photo','Flag','Club Logo','Jersey Number','Joined','Special','Loaned From','Body Type', 'Release Clause',\n",
    "               'Weight','Height','Contract Valid Until','Wage','Value','Name','Club'], axis = 1)\n",
    "df = df.dropna()\n",
    "df.head()"
   ]
  },
  {
   "cell_type": "code",
   "execution_count": null,
   "metadata": {
    "_uuid": "01fef4c7f964ce1ecd4558c833c1794c924aa490"
   },
   "outputs": [],
   "source": [
    "#Turning Real Face into a binary indicator variable\n",
    "def face_to_num(df):\n",
    "    if (df['Real Face'] == 'Yes'):\n",
    "        return 1\n",
    "    else:\n",
    "        return 0\n",
    "    \n",
    "#Turning Preferred Foot into a binary indicator variable\n",
    "def right_footed(df):\n",
    "    if (df['Preferred Foot'] == 'Right'):\n",
    "        return 1\n",
    "    else:\n",
    "        return 0\n",
    "\n",
    "#Creating a simplified position varaible to account for all player positions\n",
    "def simple_position(df):\n",
    "    if (df['Position'] == 'GK'):\n",
    "        return 'GK'\n",
    "    elif ((df['Position'] == 'RB') | (df['Position'] == 'LB') | (df['Position'] == 'CB') | (df['Position'] == 'LCB') | (df['Position'] == 'RCB') | (df['Position'] == 'RWB') | (df['Position'] == 'LWB') ):\n",
    "        return 'DF'\n",
    "    elif ((df['Position'] == 'LDM') | (df['Position'] == 'CDM') | (df['Position'] == 'RDM')):\n",
    "        return 'DM'\n",
    "    elif ((df['Position'] == 'LM') | (df['Position'] == 'LCM') | (df['Position'] == 'CM') | (df['Position'] == 'RCM') | (df['Position'] == 'RM')):\n",
    "        return 'MF'\n",
    "    elif ((df['Position'] == 'LAM') | (df['Position'] == 'CAM') | (df['Position'] == 'RAM') | (df['Position'] == 'LW') | (df['Position'] == 'RW')):\n",
    "        return 'AM'\n",
    "    elif ((df['Position'] == 'RS') | (df['Position'] == 'ST') | (df['Position'] == 'LS') | (df['Position'] == 'CF') | (df['Position'] == 'LF') | (df['Position'] == 'RF')):\n",
    "        return 'ST'\n",
    "    else:\n",
    "        return df.Position\n",
    "\n",
    "#Get a count of Nationalities in the Dataset, make of list of those with over 250 Players (our Major Nations)\n",
    "nat_counts = df.Nationality.value_counts()\n",
    "nat_list = nat_counts[nat_counts > 250].index.tolist()\n",
    "\n",
    "#Replace Nationality with a binary indicator variable for 'Major Nation'\n",
    "def major_nation(df):\n",
    "    if (df.Nationality in nat_list):\n",
    "        return 1\n",
    "    else:\n",
    "        return 0\n",
    "\n",
    "#Create a copy of the original dataframe to avoid indexing errors\n",
    "df1 = df.copy()\n",
    "\n",
    "#Apply changes to dataset to create new column\n",
    "df1['Real_Face'] = df1.apply(face_to_num, axis=1)\n",
    "df1['Right_Foot'] = df1.apply(right_footed, axis=1)\n",
    "df1['Simple_Position'] = df1.apply(simple_position,axis = 1)\n",
    "df1['Major_Nation'] = df1.apply(major_nation,axis = 1)\n",
    "\n",
    "#Split the Work Rate Column in two\n",
    "tempwork = df1[\"Work Rate\"].str.split(\"/ \", n = 1, expand = True) \n",
    "#Create new column for first work rate\n",
    "df1[\"WorkRate1\"]= tempwork[0]   \n",
    "#Create new column for second work rate\n",
    "df1[\"WorkRate2\"]= tempwork[1]\n",
    "#Drop original columns used\n",
    "df1 = df1.drop(['Work Rate','Preferred Foot','Real Face', 'Position','Nationality'], axis = 1)\n",
    "df1.head()\n"
   ]
  },
  {
   "cell_type": "code",
   "execution_count": null,
   "metadata": {
    "_uuid": "9a760917cd1fb0076675137dd1fc1f0d5c4c3c44"
   },
   "outputs": [],
   "source": [
    "#Split ID as a Target value\n",
    "target = df1.Overall\n",
    "df2 = df1.drop(['Overall'], axis = 1)\n",
    "\n",
    "#Splitting into test and train\n",
    "from sklearn.model_selection import train_test_split\n",
    "X_train, X_test, y_train, y_test = train_test_split(df2, target, test_size=0.2)\n",
    "\n",
    "#One Hot Encoding\n",
    "X_train = pd.get_dummies(X_train)\n",
    "X_test = pd.get_dummies(X_test)\n",
    "print(X_test.shape,X_train.shape)\n",
    "print(y_test.shape,y_train.shape)"
   ]
  },
  {
   "cell_type": "code",
   "execution_count": null,
   "metadata": {
    "_uuid": "7ff0576e6ece8c9a4f8616be448f0f2826e14f93"
   },
   "outputs": [],
   "source": [
    "#Applying Linear Regression\n",
    "from sklearn.linear_model import LinearRegression\n",
    "model = LinearRegression()\n",
    "model.fit(X_train, y_train)\n",
    "predictions = model.predict(X_test)\n",
    "\n",
    "#Finding the r2 score and root mean squared error\n",
    "from sklearn.metrics import r2_score, mean_squared_error\n",
    "print('r2 score: '+str(r2_score(y_test, predictions)))\n",
    "print('RMSE : '+str(np.sqrt(mean_squared_error(y_test, predictions))))"
   ]
  },
  {
   "cell_type": "code",
   "execution_count": null,
   "metadata": {
    "_uuid": "f516d524103accaf8de73f7f56438465b922eb60"
   },
   "outputs": [],
   "source": [
    "perm = PermutationImportance(model, random_state=1).fit(X_test, y_test)\n",
    "eli5.show_weights(perm, feature_names = X_test.columns.tolist())\n",
    "#Top 3 important features are Potential, Age & Reactions "
   ]
  },
  {
   "cell_type": "code",
   "execution_count": null,
   "metadata": {
    "_uuid": "f146709e3fe60e252a88a890fe54bce10fa089e0"
   },
   "outputs": [],
   "source": [
    "#Visualising the results\n",
    "plt.figure(figsize=(18,10))\n",
    "sns.regplot(predictions,y_test,scatter_kws={'color':'red','edgecolor':'blue','linewidth':'0.7'},line_kws={'color':'black','alpha':0.5})\n",
    "plt.xlabel('Predictions')\n",
    "plt.ylabel('Overall')\n",
    "plt.title(\"Linear Prediction of Player Rating\")\n",
    "plt.show()"
   ]
  }
 ],
 "metadata": {
  "kernelspec": {
   "display_name": "Python 3",
   "language": "python",
   "name": "python3"
  },
  "language_info": {
   "codemirror_mode": {
    "name": "ipython",
    "version": 3
   },
   "file_extension": ".py",
   "mimetype": "text/x-python",
   "name": "python",
   "nbconvert_exporter": "python",
   "pygments_lexer": "ipython3",
   "version": "3.8.5"
  }
 },
 "nbformat": 4,
 "nbformat_minor": 4
}
